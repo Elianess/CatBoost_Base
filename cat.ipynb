{
 "cells": [
  {
   "cell_type": "markdown",
   "id": "9f22ca00",
   "metadata": {},
   "source": [
    "Задача: нужно предсказать доход человека (больше $50000 или меньше) по результатам переписи населения\n",
    "\n",
    "https://archive.ics.uci.edu/dataset/2/adult"
   ]
  },
  {
   "cell_type": "code",
   "execution_count": 1,
   "id": "6eefb6e1-16fd-475f-8d07-a93dd0c6e3e6",
   "metadata": {},
   "outputs": [],
   "source": [
    "import pandas as pd\n",
    "import matplotlib.pyplot as plt"
   ]
  },
  {
   "cell_type": "markdown",
   "id": "7535d572",
   "metadata": {},
   "source": [
    "### Train data"
   ]
  },
  {
   "cell_type": "code",
   "execution_count": 3,
   "id": "8b0cde22-6f7f-4666-82bd-0eff0ce64d16",
   "metadata": {},
   "outputs": [],
   "source": [
    "columns = ['age', 'workclass', 'fnlwgt', 'education', \n",
    "           'education-num', 'marital-status', 'occupation', \n",
    "           'relationship', 'race', 'sex', 'capital-gain', \n",
    "           'capital-loss', 'hours-per-week', 'native-country', 'income']\n",
    "df = pd.read_csv('adult.data', \n",
    "                 header = None, \n",
    "                 names = columns,\n",
    "                 na_values = ' ?')"
   ]
  },
  {
   "cell_type": "code",
   "execution_count": 4,
   "id": "7fbc2ec5-a8df-47d7-bea6-7ca453202dad",
   "metadata": {},
   "outputs": [
    {
     "data": {
      "text/html": [
       "<div>\n",
       "<style scoped>\n",
       "    .dataframe tbody tr th:only-of-type {\n",
       "        vertical-align: middle;\n",
       "    }\n",
       "\n",
       "    .dataframe tbody tr th {\n",
       "        vertical-align: top;\n",
       "    }\n",
       "\n",
       "    .dataframe thead th {\n",
       "        text-align: right;\n",
       "    }\n",
       "</style>\n",
       "<table border=\"1\" class=\"dataframe\">\n",
       "  <thead>\n",
       "    <tr style=\"text-align: right;\">\n",
       "      <th></th>\n",
       "      <th>age</th>\n",
       "      <th>workclass</th>\n",
       "      <th>fnlwgt</th>\n",
       "      <th>education</th>\n",
       "      <th>education-num</th>\n",
       "      <th>marital-status</th>\n",
       "      <th>occupation</th>\n",
       "      <th>relationship</th>\n",
       "      <th>race</th>\n",
       "      <th>sex</th>\n",
       "      <th>capital-gain</th>\n",
       "      <th>capital-loss</th>\n",
       "      <th>hours-per-week</th>\n",
       "      <th>native-country</th>\n",
       "      <th>income</th>\n",
       "    </tr>\n",
       "  </thead>\n",
       "  <tbody>\n",
       "    <tr>\n",
       "      <th>0</th>\n",
       "      <td>39</td>\n",
       "      <td>State-gov</td>\n",
       "      <td>77516</td>\n",
       "      <td>Bachelors</td>\n",
       "      <td>13</td>\n",
       "      <td>Never-married</td>\n",
       "      <td>Adm-clerical</td>\n",
       "      <td>Not-in-family</td>\n",
       "      <td>White</td>\n",
       "      <td>Male</td>\n",
       "      <td>2174</td>\n",
       "      <td>0</td>\n",
       "      <td>40</td>\n",
       "      <td>United-States</td>\n",
       "      <td>&lt;=50K</td>\n",
       "    </tr>\n",
       "    <tr>\n",
       "      <th>1</th>\n",
       "      <td>50</td>\n",
       "      <td>Self-emp-not-inc</td>\n",
       "      <td>83311</td>\n",
       "      <td>Bachelors</td>\n",
       "      <td>13</td>\n",
       "      <td>Married-civ-spouse</td>\n",
       "      <td>Exec-managerial</td>\n",
       "      <td>Husband</td>\n",
       "      <td>White</td>\n",
       "      <td>Male</td>\n",
       "      <td>0</td>\n",
       "      <td>0</td>\n",
       "      <td>13</td>\n",
       "      <td>United-States</td>\n",
       "      <td>&lt;=50K</td>\n",
       "    </tr>\n",
       "    <tr>\n",
       "      <th>2</th>\n",
       "      <td>38</td>\n",
       "      <td>Private</td>\n",
       "      <td>215646</td>\n",
       "      <td>HS-grad</td>\n",
       "      <td>9</td>\n",
       "      <td>Divorced</td>\n",
       "      <td>Handlers-cleaners</td>\n",
       "      <td>Not-in-family</td>\n",
       "      <td>White</td>\n",
       "      <td>Male</td>\n",
       "      <td>0</td>\n",
       "      <td>0</td>\n",
       "      <td>40</td>\n",
       "      <td>United-States</td>\n",
       "      <td>&lt;=50K</td>\n",
       "    </tr>\n",
       "    <tr>\n",
       "      <th>3</th>\n",
       "      <td>53</td>\n",
       "      <td>Private</td>\n",
       "      <td>234721</td>\n",
       "      <td>11th</td>\n",
       "      <td>7</td>\n",
       "      <td>Married-civ-spouse</td>\n",
       "      <td>Handlers-cleaners</td>\n",
       "      <td>Husband</td>\n",
       "      <td>Black</td>\n",
       "      <td>Male</td>\n",
       "      <td>0</td>\n",
       "      <td>0</td>\n",
       "      <td>40</td>\n",
       "      <td>United-States</td>\n",
       "      <td>&lt;=50K</td>\n",
       "    </tr>\n",
       "    <tr>\n",
       "      <th>4</th>\n",
       "      <td>28</td>\n",
       "      <td>Private</td>\n",
       "      <td>338409</td>\n",
       "      <td>Bachelors</td>\n",
       "      <td>13</td>\n",
       "      <td>Married-civ-spouse</td>\n",
       "      <td>Prof-specialty</td>\n",
       "      <td>Wife</td>\n",
       "      <td>Black</td>\n",
       "      <td>Female</td>\n",
       "      <td>0</td>\n",
       "      <td>0</td>\n",
       "      <td>40</td>\n",
       "      <td>Cuba</td>\n",
       "      <td>&lt;=50K</td>\n",
       "    </tr>\n",
       "  </tbody>\n",
       "</table>\n",
       "</div>"
      ],
      "text/plain": [
       "   age          workclass  fnlwgt   education  education-num  \\\n",
       "0   39          State-gov   77516   Bachelors             13   \n",
       "1   50   Self-emp-not-inc   83311   Bachelors             13   \n",
       "2   38            Private  215646     HS-grad              9   \n",
       "3   53            Private  234721        11th              7   \n",
       "4   28            Private  338409   Bachelors             13   \n",
       "\n",
       "        marital-status          occupation    relationship    race      sex  \\\n",
       "0        Never-married        Adm-clerical   Not-in-family   White     Male   \n",
       "1   Married-civ-spouse     Exec-managerial         Husband   White     Male   \n",
       "2             Divorced   Handlers-cleaners   Not-in-family   White     Male   \n",
       "3   Married-civ-spouse   Handlers-cleaners         Husband   Black     Male   \n",
       "4   Married-civ-spouse      Prof-specialty            Wife   Black   Female   \n",
       "\n",
       "   capital-gain  capital-loss  hours-per-week  native-country  income  \n",
       "0          2174             0              40   United-States   <=50K  \n",
       "1             0             0              13   United-States   <=50K  \n",
       "2             0             0              40   United-States   <=50K  \n",
       "3             0             0              40   United-States   <=50K  \n",
       "4             0             0              40            Cuba   <=50K  "
      ]
     },
     "execution_count": 4,
     "metadata": {},
     "output_type": "execute_result"
    }
   ],
   "source": [
    "df.head()"
   ]
  },
  {
   "cell_type": "code",
   "execution_count": 5,
   "id": "d14ae277-c18e-4da4-9356-3e44e4e7c127",
   "metadata": {},
   "outputs": [
    {
     "name": "stdout",
     "output_type": "stream",
     "text": [
      "Размер набора данных: (32561, 15)\n"
     ]
    }
   ],
   "source": [
    "print(f'Размер набора данных: {df.shape}')"
   ]
  },
  {
   "cell_type": "markdown",
   "id": "05e71a7f-ff78-4b8c-997b-3213cbab11dd",
   "metadata": {},
   "source": [
    "Преобразуем столбец `income` в бинарное представление"
   ]
  },
  {
   "cell_type": "code",
   "execution_count": 6,
   "id": "dc768a96-140d-4617-8310-50364c40e2ec",
   "metadata": {},
   "outputs": [
    {
     "data": {
      "text/plain": [
       "array([' <=50K', ' >50K'], dtype=object)"
      ]
     },
     "execution_count": 6,
     "metadata": {},
     "output_type": "execute_result"
    }
   ],
   "source": [
    "df['income'].unique()"
   ]
  },
  {
   "cell_type": "code",
   "execution_count": 7,
   "id": "f1141111-939e-47d9-96d6-1ad7bd562b19",
   "metadata": {},
   "outputs": [],
   "source": [
    "df['income'] = df['income'].map({' <=50K' : 0,\n",
    "                                 ' >50K' : 1})"
   ]
  },
  {
   "cell_type": "code",
   "execution_count": 8,
   "id": "f9521e27-c5e0-48a7-b4d6-3ab8041a9356",
   "metadata": {},
   "outputs": [
    {
     "data": {
      "text/plain": [
       "array([0, 1], dtype=int64)"
      ]
     },
     "execution_count": 8,
     "metadata": {},
     "output_type": "execute_result"
    }
   ],
   "source": [
    "df['income'].unique()"
   ]
  },
  {
   "cell_type": "code",
   "execution_count": 9,
   "id": "190e9a9f-1e45-4bdf-95a5-2f33aa7f574d",
   "metadata": {},
   "outputs": [],
   "source": [
    "df = df.dropna()"
   ]
  },
  {
   "cell_type": "code",
   "execution_count": 10,
   "id": "aeaa62df-bd21-429f-9ab2-6d941003422b",
   "metadata": {},
   "outputs": [
    {
     "data": {
      "text/plain": [
       "age               0\n",
       "workclass         0\n",
       "fnlwgt            0\n",
       "education         0\n",
       "education-num     0\n",
       "marital-status    0\n",
       "occupation        0\n",
       "relationship      0\n",
       "race              0\n",
       "sex               0\n",
       "capital-gain      0\n",
       "capital-loss      0\n",
       "hours-per-week    0\n",
       "native-country    0\n",
       "income            0\n",
       "dtype: int64"
      ]
     },
     "execution_count": 10,
     "metadata": {},
     "output_type": "execute_result"
    }
   ],
   "source": [
    "df.isnull().sum()"
   ]
  },
  {
   "cell_type": "markdown",
   "id": "92c80961",
   "metadata": {},
   "source": [
    "### Test data"
   ]
  },
  {
   "cell_type": "markdown",
   "id": "14292f45",
   "metadata": {},
   "source": [
    "повторяем для тестового набора данных"
   ]
  },
  {
   "cell_type": "code",
   "execution_count": 11,
   "id": "81df10b7-9538-4d0b-99de-187db4a6cbf2",
   "metadata": {},
   "outputs": [],
   "source": [
    "test_df = test_df = pd.read_csv('adult.test',\n",
    "                                header = None,\n",
    "                                names = columns, \n",
    "                                na_values = ' ?',\n",
    "                                skiprows = 1)"
   ]
  },
  {
   "cell_type": "code",
   "execution_count": 12,
   "id": "8dafbe56-23c7-464b-beec-02c804d1f7bc",
   "metadata": {},
   "outputs": [
    {
     "name": "stdout",
     "output_type": "stream",
     "text": [
      "Размер набора данных: (16281, 15)\n"
     ]
    }
   ],
   "source": [
    "print(f'Размер набора данных: {test_df.shape}')"
   ]
  },
  {
   "cell_type": "code",
   "execution_count": 13,
   "id": "72233b44-028b-4528-968d-9123a71e01ff",
   "metadata": {},
   "outputs": [
    {
     "data": {
      "text/html": [
       "<div>\n",
       "<style scoped>\n",
       "    .dataframe tbody tr th:only-of-type {\n",
       "        vertical-align: middle;\n",
       "    }\n",
       "\n",
       "    .dataframe tbody tr th {\n",
       "        vertical-align: top;\n",
       "    }\n",
       "\n",
       "    .dataframe thead th {\n",
       "        text-align: right;\n",
       "    }\n",
       "</style>\n",
       "<table border=\"1\" class=\"dataframe\">\n",
       "  <thead>\n",
       "    <tr style=\"text-align: right;\">\n",
       "      <th></th>\n",
       "      <th>age</th>\n",
       "      <th>workclass</th>\n",
       "      <th>fnlwgt</th>\n",
       "      <th>education</th>\n",
       "      <th>education-num</th>\n",
       "      <th>marital-status</th>\n",
       "      <th>occupation</th>\n",
       "      <th>relationship</th>\n",
       "      <th>race</th>\n",
       "      <th>sex</th>\n",
       "      <th>capital-gain</th>\n",
       "      <th>capital-loss</th>\n",
       "      <th>hours-per-week</th>\n",
       "      <th>native-country</th>\n",
       "      <th>income</th>\n",
       "    </tr>\n",
       "  </thead>\n",
       "  <tbody>\n",
       "    <tr>\n",
       "      <th>0</th>\n",
       "      <td>25</td>\n",
       "      <td>Private</td>\n",
       "      <td>226802</td>\n",
       "      <td>11th</td>\n",
       "      <td>7</td>\n",
       "      <td>Never-married</td>\n",
       "      <td>Machine-op-inspct</td>\n",
       "      <td>Own-child</td>\n",
       "      <td>Black</td>\n",
       "      <td>Male</td>\n",
       "      <td>0</td>\n",
       "      <td>0</td>\n",
       "      <td>40</td>\n",
       "      <td>United-States</td>\n",
       "      <td>&lt;=50K.</td>\n",
       "    </tr>\n",
       "    <tr>\n",
       "      <th>1</th>\n",
       "      <td>38</td>\n",
       "      <td>Private</td>\n",
       "      <td>89814</td>\n",
       "      <td>HS-grad</td>\n",
       "      <td>9</td>\n",
       "      <td>Married-civ-spouse</td>\n",
       "      <td>Farming-fishing</td>\n",
       "      <td>Husband</td>\n",
       "      <td>White</td>\n",
       "      <td>Male</td>\n",
       "      <td>0</td>\n",
       "      <td>0</td>\n",
       "      <td>50</td>\n",
       "      <td>United-States</td>\n",
       "      <td>&lt;=50K.</td>\n",
       "    </tr>\n",
       "    <tr>\n",
       "      <th>2</th>\n",
       "      <td>28</td>\n",
       "      <td>Local-gov</td>\n",
       "      <td>336951</td>\n",
       "      <td>Assoc-acdm</td>\n",
       "      <td>12</td>\n",
       "      <td>Married-civ-spouse</td>\n",
       "      <td>Protective-serv</td>\n",
       "      <td>Husband</td>\n",
       "      <td>White</td>\n",
       "      <td>Male</td>\n",
       "      <td>0</td>\n",
       "      <td>0</td>\n",
       "      <td>40</td>\n",
       "      <td>United-States</td>\n",
       "      <td>&gt;50K.</td>\n",
       "    </tr>\n",
       "    <tr>\n",
       "      <th>3</th>\n",
       "      <td>44</td>\n",
       "      <td>Private</td>\n",
       "      <td>160323</td>\n",
       "      <td>Some-college</td>\n",
       "      <td>10</td>\n",
       "      <td>Married-civ-spouse</td>\n",
       "      <td>Machine-op-inspct</td>\n",
       "      <td>Husband</td>\n",
       "      <td>Black</td>\n",
       "      <td>Male</td>\n",
       "      <td>7688</td>\n",
       "      <td>0</td>\n",
       "      <td>40</td>\n",
       "      <td>United-States</td>\n",
       "      <td>&gt;50K.</td>\n",
       "    </tr>\n",
       "    <tr>\n",
       "      <th>4</th>\n",
       "      <td>18</td>\n",
       "      <td>NaN</td>\n",
       "      <td>103497</td>\n",
       "      <td>Some-college</td>\n",
       "      <td>10</td>\n",
       "      <td>Never-married</td>\n",
       "      <td>NaN</td>\n",
       "      <td>Own-child</td>\n",
       "      <td>White</td>\n",
       "      <td>Female</td>\n",
       "      <td>0</td>\n",
       "      <td>0</td>\n",
       "      <td>30</td>\n",
       "      <td>United-States</td>\n",
       "      <td>&lt;=50K.</td>\n",
       "    </tr>\n",
       "  </tbody>\n",
       "</table>\n",
       "</div>"
      ],
      "text/plain": [
       "   age   workclass  fnlwgt      education  education-num       marital-status  \\\n",
       "0   25     Private  226802           11th              7        Never-married   \n",
       "1   38     Private   89814        HS-grad              9   Married-civ-spouse   \n",
       "2   28   Local-gov  336951     Assoc-acdm             12   Married-civ-spouse   \n",
       "3   44     Private  160323   Some-college             10   Married-civ-spouse   \n",
       "4   18         NaN  103497   Some-college             10        Never-married   \n",
       "\n",
       "           occupation relationship    race      sex  capital-gain  \\\n",
       "0   Machine-op-inspct    Own-child   Black     Male             0   \n",
       "1     Farming-fishing      Husband   White     Male             0   \n",
       "2     Protective-serv      Husband   White     Male             0   \n",
       "3   Machine-op-inspct      Husband   Black     Male          7688   \n",
       "4                 NaN    Own-child   White   Female             0   \n",
       "\n",
       "   capital-loss  hours-per-week  native-country   income  \n",
       "0             0              40   United-States   <=50K.  \n",
       "1             0              50   United-States   <=50K.  \n",
       "2             0              40   United-States    >50K.  \n",
       "3             0              40   United-States    >50K.  \n",
       "4             0              30   United-States   <=50K.  "
      ]
     },
     "execution_count": 13,
     "metadata": {},
     "output_type": "execute_result"
    }
   ],
   "source": [
    "test_df.head()"
   ]
  },
  {
   "cell_type": "code",
   "execution_count": 14,
   "id": "d9f303da-6cda-4198-9426-a7a96b75f592",
   "metadata": {},
   "outputs": [],
   "source": [
    "test_df['income'] = test_df['income'].map({' <=50K.': 0,\n",
    "                                           ' >50K.' : 1})"
   ]
  },
  {
   "cell_type": "code",
   "execution_count": 15,
   "id": "b2fa24dc-eba1-4c81-b50c-3a6d9e1cbd71",
   "metadata": {},
   "outputs": [
    {
     "data": {
      "text/plain": [
       "array([0, 1], dtype=int64)"
      ]
     },
     "execution_count": 15,
     "metadata": {},
     "output_type": "execute_result"
    }
   ],
   "source": [
    "test_df['income'].unique()"
   ]
  },
  {
   "cell_type": "code",
   "execution_count": 16,
   "id": "6603823c-9abc-4da7-88ec-c7fac3a9f048",
   "metadata": {},
   "outputs": [],
   "source": [
    "test_df = test_df.dropna()"
   ]
  },
  {
   "cell_type": "code",
   "execution_count": 17,
   "id": "cc6ee35c-e5cc-4694-9ca6-40826196083b",
   "metadata": {},
   "outputs": [
    {
     "data": {
      "text/plain": [
       "age               0\n",
       "workclass         0\n",
       "fnlwgt            0\n",
       "education         0\n",
       "education-num     0\n",
       "marital-status    0\n",
       "occupation        0\n",
       "relationship      0\n",
       "race              0\n",
       "sex               0\n",
       "capital-gain      0\n",
       "capital-loss      0\n",
       "hours-per-week    0\n",
       "native-country    0\n",
       "income            0\n",
       "dtype: int64"
      ]
     },
     "execution_count": 17,
     "metadata": {},
     "output_type": "execute_result"
    }
   ],
   "source": [
    "test_df.isnull().sum()"
   ]
  },
  {
   "cell_type": "markdown",
   "id": "09ec8732",
   "metadata": {},
   "source": [
    "### Данные"
   ]
  },
  {
   "cell_type": "markdown",
   "id": "ca9a9cd6",
   "metadata": {},
   "source": [
    "Смотрим на распределение клаасов в итоговой переменной (отклике)"
   ]
  },
  {
   "cell_type": "code",
   "execution_count": 18,
   "id": "89f561c8-96d2-459f-b3f6-cda216d5acea",
   "metadata": {},
   "outputs": [
    {
     "data": {
      "text/plain": [
       "income\n",
       "0    0.751078\n",
       "1    0.248922\n",
       "Name: proportion, dtype: float64"
      ]
     },
     "execution_count": 18,
     "metadata": {},
     "output_type": "execute_result"
    }
   ],
   "source": [
    "df['income'].value_counts(normalize=True)"
   ]
  },
  {
   "cell_type": "markdown",
   "id": "99a9b5dd",
   "metadata": {},
   "source": [
    "видим, что класс `0` преобладает и составляет около 75%, а класс `1` около 25%.\n"
   ]
  },
  {
   "cell_type": "markdown",
   "id": "8afa9b58",
   "metadata": {},
   "source": [
    "отделяем целевую переменную на тестовых и обучающих данных"
   ]
  },
  {
   "cell_type": "code",
   "execution_count": 19,
   "id": "3bfeb25c-0704-4553-ab75-d7fe8241b5ce",
   "metadata": {},
   "outputs": [
    {
     "name": "stdout",
     "output_type": "stream",
     "text": [
      "X: (30162, 14) \n",
      "y: (30162,)       \n",
      "X_test: (15060, 14) \n",
      "y_test: (15060,)\n"
     ]
    }
   ],
   "source": [
    "X = df.drop('income', axis = 1)\n",
    "y = df['income']\n",
    "\n",
    "X_test = test_df.drop('income', axis = 1)\n",
    "y_test = test_df['income']\n",
    "\n",
    "print(f'X: {X.shape} \\ny: {y.shape}\\\n",
    "       \\nX_test: {X_test.shape} \\ny_test: {y_test.shape}')"
   ]
  },
  {
   "cell_type": "markdown",
   "id": "0db489bf",
   "metadata": {},
   "source": [
    "делим обучающие данные на обучающие и валидационные"
   ]
  },
  {
   "cell_type": "code",
   "execution_count": 20,
   "id": "bfe7e53a-a06b-4269-aebe-9c5e59ffbfc3",
   "metadata": {},
   "outputs": [
    {
     "name": "stdout",
     "output_type": "stream",
     "text": [
      "X_train: (24129, 14) \n",
      "y_train: (24129,)       \n",
      "\n",
      "X_val: (6033, 14) \n",
      "y_val: (6033,)\n"
     ]
    }
   ],
   "source": [
    "from sklearn.model_selection import train_test_split\n",
    "\n",
    "X_train, X_valid, y_train, y_valid = train_test_split(X, y, train_size = 0.8, random_state = 42)\n",
    "\n",
    "print(f'X_train: {X_train.shape} \\ny_train: {y_train.shape}\\\n",
    "       \\n\\nX_val: {X_valid.shape} \\ny_val: {y_valid.shape}')"
   ]
  },
  {
   "cell_type": "code",
   "execution_count": 21,
   "id": "33c2f2b1-af1e-4441-b55e-b3d97306355b",
   "metadata": {},
   "outputs": [
    {
     "name": "stdout",
     "output_type": "stream",
     "text": [
      "<class 'pandas.core.frame.DataFrame'>\n",
      "Index: 24129 entries, 19863 to 25528\n",
      "Data columns (total 14 columns):\n",
      " #   Column          Non-Null Count  Dtype \n",
      "---  ------          --------------  ----- \n",
      " 0   age             24129 non-null  int64 \n",
      " 1   workclass       24129 non-null  object\n",
      " 2   fnlwgt          24129 non-null  int64 \n",
      " 3   education       24129 non-null  object\n",
      " 4   education-num   24129 non-null  int64 \n",
      " 5   marital-status  24129 non-null  object\n",
      " 6   occupation      24129 non-null  object\n",
      " 7   relationship    24129 non-null  object\n",
      " 8   race            24129 non-null  object\n",
      " 9   sex             24129 non-null  object\n",
      " 10  capital-gain    24129 non-null  int64 \n",
      " 11  capital-loss    24129 non-null  int64 \n",
      " 12  hours-per-week  24129 non-null  int64 \n",
      " 13  native-country  24129 non-null  object\n",
      "dtypes: int64(6), object(8)\n",
      "memory usage: 2.8+ MB\n",
      "<class 'pandas.core.frame.DataFrame'>\n",
      "Index: 15060 entries, 0 to 16280\n",
      "Data columns (total 14 columns):\n",
      " #   Column          Non-Null Count  Dtype \n",
      "---  ------          --------------  ----- \n",
      " 0   age             15060 non-null  int64 \n",
      " 1   workclass       15060 non-null  object\n",
      " 2   fnlwgt          15060 non-null  int64 \n",
      " 3   education       15060 non-null  object\n",
      " 4   education-num   15060 non-null  int64 \n",
      " 5   marital-status  15060 non-null  object\n",
      " 6   occupation      15060 non-null  object\n",
      " 7   relationship    15060 non-null  object\n",
      " 8   race            15060 non-null  object\n",
      " 9   sex             15060 non-null  object\n",
      " 10  capital-gain    15060 non-null  int64 \n",
      " 11  capital-loss    15060 non-null  int64 \n",
      " 12  hours-per-week  15060 non-null  int64 \n",
      " 13  native-country  15060 non-null  object\n",
      "dtypes: int64(6), object(8)\n",
      "memory usage: 1.7+ MB\n"
     ]
    }
   ],
   "source": [
    "X_train.info()\n",
    "X_test.info()"
   ]
  },
  {
   "cell_type": "markdown",
   "id": "4719db37",
   "metadata": {},
   "source": [
    "### CatBoost"
   ]
  },
  {
   "cell_type": "markdown",
   "id": "0578224a-bd3d-4bd8-8174-3e6062cb3935",
   "metadata": {},
   "source": [
    "catboost использует специальный объект `pool` для предоставления данных\n",
    "\n",
    "`cat_features` - индексы категориальных признаков "
   ]
  },
  {
   "cell_type": "code",
   "execution_count": 22,
   "id": "dd79e116-f7f2-493a-8108-7ed01a3910be",
   "metadata": {},
   "outputs": [],
   "source": [
    "from catboost import Pool\n",
    "\n",
    "train_pool = Pool(data = X_train, label = y_train, cat_features = [1, 3, 5, 6, 7, 8, 9, 13])\n",
    "valid_pool = Pool(data = X_valid, label = y_valid, cat_features = [1, 3, 5, 6, 7, 8, 9, 13]) \n",
    "ёtest_pool = Pool(data = X_test, label = y_test, cat_features = [1, 3, 5, 6, 7, 8, 9, 13]) "
   ]
  },
  {
   "cell_type": "markdown",
   "id": "57d09e2a",
   "metadata": {},
   "source": [
    "#### гиперпараметры\n",
    "\n",
    "`iterations` - количество итераций (стоит брать побольше, для получения более точных моделей)\n",
    "\n",
    "`learning_rate` - скорость обучения\n",
    "\n",
    "`l2_leaf_reg` - коэффициент l2 регуляризации. Это ограничение на значение в листьях, чтобы они не улетали в бесконечность, это влияет на качество. по умолчанию 3.\n",
    "\n",
    "`boosting_type` - бывает 2х видов: Plain - стандартный алгоритм бустинга и Ordered - отвечает за борьбу с переобучением (хорошо работает, когда мало данных, работает дольше чем plain, не стоит использовать на больших датасетах, так как прироста в качестве не будет. По стандарту, если объектов в наборе <50к, то используется ordered, иначе plain)\n",
    "\n",
    "`boostrap_type` = Bernoulli и `subsample` = 0.5 - говорит о том, что на каждой итерации мы хотим использовать случайную подвыборку датасета, то есть на примере случайные 50 процентов. Это ускоряет обучение и добавляет увеличение рандома, что снижает переобучение \n",
    "\n",
    "`rsm` = 0.5- то же самое, только про признаки, то есть на каждой итерации выбираем 50 процентов признаков, на основе которых будем строить дерево\n",
    "\n",
    "`random_strength` - если параметр не нулевой, то добавляем шум с указанной интенсивностью, чем больше параметр, тем интенсивнее шум, тем увеличиваем рандом. Не влияет на скорость, но влияет на качество\n",
    "\n",
    "`one_hotmax_size` - определяет, когда иденцифицировать прихнак как one_hot, те признаки, у которых уникальных значений меньше значения, заданного в параметр, мы считаем за one hot\n",
    "\n",
    "`max_ctr_complexity` - комбинирует признаки и пробует добавлять их как новые. 1 - не будет добавлять признаки, 2 - будет доавблять из 2 признаков, 3 - из трех и т.д.\n",
    "\n",
    "`loss_fuction` - 'Logloss' или 'CrossEntropy', logloss - когда предсказываемый признак бинаррный, то есть [0, 1]. Если нужно предсказывать вероятности, то лучше ставить crossentropy\n"
   ]
  },
  {
   "cell_type": "code",
   "execution_count": 44,
   "id": "04ad0927-c048-4d6f-8b94-442a3d1f3a9d",
   "metadata": {},
   "outputs": [
    {
     "data": {
      "application/vnd.jupyter.widget-view+json": {
       "model_id": "e2b29b5bcb0747cba034b584e50c28e7",
       "version_major": 2,
       "version_minor": 0
      },
      "text/plain": [
       "MetricVisualizer(layout=Layout(align_self='stretch', height='500px'))"
      ]
     },
     "metadata": {},
     "output_type": "display_data"
    },
    {
     "name": "stdout",
     "output_type": "stream",
     "text": [
      "0:\tlearn: 0.6839067\ttest: 0.6840022\tbest: 0.6840022 (0)\ttotal: 141ms\tremaining: 1m 10s\n",
      "50:\tlearn: 0.4177757\ttest: 0.4192530\tbest: 0.4192530 (50)\ttotal: 8.27s\tremaining: 1m 12s\n",
      "100:\tlearn: 0.3534566\ttest: 0.3549853\tbest: 0.3549853 (100)\ttotal: 21s\tremaining: 1m 22s\n",
      "150:\tlearn: 0.3310807\ttest: 0.3327616\tbest: 0.3327616 (150)\ttotal: 31s\tremaining: 1m 11s\n",
      "200:\tlearn: 0.3200375\ttest: 0.3221763\tbest: 0.3221763 (200)\ttotal: 41.1s\tremaining: 1m 1s\n",
      "250:\tlearn: 0.3129520\ttest: 0.3156524\tbest: 0.3156524 (250)\ttotal: 52s\tremaining: 51.6s\n",
      "300:\tlearn: 0.3080820\ttest: 0.3112668\tbest: 0.3112668 (300)\ttotal: 1m 1s\tremaining: 40.7s\n",
      "350:\tlearn: 0.3037600\ttest: 0.3072576\tbest: 0.3072576 (350)\ttotal: 1m 11s\tremaining: 30.3s\n",
      "400:\tlearn: 0.3006386\ttest: 0.3045842\tbest: 0.3045842 (400)\ttotal: 1m 21s\tremaining: 20.1s\n",
      "450:\tlearn: 0.2980319\ttest: 0.3024538\tbest: 0.3024538 (450)\ttotal: 1m 31s\tremaining: 9.93s\n",
      "499:\tlearn: 0.2957132\ttest: 0.3004941\tbest: 0.3004941 (499)\ttotal: 1m 41s\tremaining: 0us\n",
      "\n",
      "bestTest = 0.3004940679\n",
      "bestIteration = 499\n",
      "\n"
     ]
    },
    {
     "data": {
      "text/plain": [
       "<catboost.core.CatBoostClassifier at 0x1cbfe1c6ed0>"
      ]
     },
     "execution_count": 44,
     "metadata": {},
     "output_type": "execute_result"
    }
   ],
   "source": [
    "from catboost import CatBoostClassifier\n",
    "\n",
    "model = CatBoostClassifier(iterations = 500, \n",
    "                           learning_rate = 0.01, \n",
    "                           depth = 6,\n",
    "                           custom_loss = ['AUC', 'Accuracy'])\n",
    "\n",
    "model.fit(train_pool, \n",
    "          eval_set = valid_pool, \n",
    "          verbose = 50,\n",
    "          plot = True)"
   ]
  },
  {
   "cell_type": "markdown",
   "id": "bd5d640d",
   "metadata": {},
   "source": [
    "в выводе указаны ошибка на лерне(ошибка метрики которую мы оптимизируем на трйне), ошибка на тесте (ошибка метрики которую мы оптимизируем на тесте) и лучший результат. Точка на графике - точка переобучения, все деревья построенные псоле этой точки бесполезные."
   ]
  },
  {
   "cell_type": "markdown",
   "id": "610d6669",
   "metadata": {},
   "source": [
    "### Кросс Валидация "
   ]
  },
  {
   "cell_type": "code",
   "execution_count": 48,
   "id": "579931cb",
   "metadata": {},
   "outputs": [
    {
     "data": {
      "application/vnd.jupyter.widget-view+json": {
       "model_id": "8a638a09dbf548faad0c4d723260efa7",
       "version_major": 2,
       "version_minor": 0
      },
      "text/plain": [
       "MetricVisualizer(layout=Layout(align_self='stretch', height='500px'))"
      ]
     },
     "metadata": {},
     "output_type": "display_data"
    },
    {
     "name": "stdout",
     "output_type": "stream",
     "text": [
      "Training on fold [0/5]\n",
      "\n",
      "bestTest = 0.3058424319\n",
      "bestIteration = 499\n",
      "\n",
      "Training on fold [1/5]\n",
      "\n",
      "bestTest = 0.3073486349\n",
      "bestIteration = 499\n",
      "\n",
      "Training on fold [2/5]\n",
      "\n",
      "bestTest = 0.3005474088\n",
      "bestIteration = 499\n",
      "\n",
      "Training on fold [3/5]\n",
      "\n",
      "bestTest = 0.2985246661\n",
      "bestIteration = 499\n",
      "\n",
      "Training on fold [4/5]\n",
      "\n",
      "bestTest = 0.3050943488\n",
      "bestIteration = 499\n",
      "\n"
     ]
    }
   ],
   "source": [
    "from catboost import cv\n",
    "\n",
    "params = {'loss_function' : 'Logloss',\n",
    "          'iterations' : 500,\n",
    "          'learning_rate' : 0.01,\n",
    "          'depth' : 6}\n",
    "\n",
    "cv_data = cv(params = params, \n",
    "             pool = train_pool,\n",
    "             fold_count = 5,\n",
    "             shuffle = True,\n",
    "             partition_random_seed = 42, \n",
    "             plot = True, \n",
    "             stratified = True, # следит за сбалаансированным распредлением фолдов\n",
    "             verbose = False)"
   ]
  },
  {
   "cell_type": "code",
   "execution_count": 50,
   "id": "837b1f57",
   "metadata": {},
   "outputs": [
    {
     "data": {
      "text/html": [
       "<div>\n",
       "<style scoped>\n",
       "    .dataframe tbody tr th:only-of-type {\n",
       "        vertical-align: middle;\n",
       "    }\n",
       "\n",
       "    .dataframe tbody tr th {\n",
       "        vertical-align: top;\n",
       "    }\n",
       "\n",
       "    .dataframe thead th {\n",
       "        text-align: right;\n",
       "    }\n",
       "</style>\n",
       "<table border=\"1\" class=\"dataframe\">\n",
       "  <thead>\n",
       "    <tr style=\"text-align: right;\">\n",
       "      <th></th>\n",
       "      <th>iterations</th>\n",
       "      <th>test-Logloss-mean</th>\n",
       "      <th>test-Logloss-std</th>\n",
       "      <th>train-Logloss-mean</th>\n",
       "      <th>train-Logloss-std</th>\n",
       "    </tr>\n",
       "  </thead>\n",
       "  <tbody>\n",
       "    <tr>\n",
       "      <th>0</th>\n",
       "      <td>0</td>\n",
       "      <td>0.683487</td>\n",
       "      <td>0.000083</td>\n",
       "      <td>0.683467</td>\n",
       "      <td>0.000074</td>\n",
       "    </tr>\n",
       "    <tr>\n",
       "      <th>1</th>\n",
       "      <td>1</td>\n",
       "      <td>0.673264</td>\n",
       "      <td>0.000259</td>\n",
       "      <td>0.673213</td>\n",
       "      <td>0.000203</td>\n",
       "    </tr>\n",
       "    <tr>\n",
       "      <th>2</th>\n",
       "      <td>2</td>\n",
       "      <td>0.663463</td>\n",
       "      <td>0.000390</td>\n",
       "      <td>0.663408</td>\n",
       "      <td>0.000317</td>\n",
       "    </tr>\n",
       "    <tr>\n",
       "      <th>3</th>\n",
       "      <td>3</td>\n",
       "      <td>0.654918</td>\n",
       "      <td>0.000491</td>\n",
       "      <td>0.654825</td>\n",
       "      <td>0.000571</td>\n",
       "    </tr>\n",
       "    <tr>\n",
       "      <th>4</th>\n",
       "      <td>4</td>\n",
       "      <td>0.645751</td>\n",
       "      <td>0.000758</td>\n",
       "      <td>0.645639</td>\n",
       "      <td>0.000726</td>\n",
       "    </tr>\n",
       "    <tr>\n",
       "      <th>5</th>\n",
       "      <td>5</td>\n",
       "      <td>0.637144</td>\n",
       "      <td>0.000669</td>\n",
       "      <td>0.637030</td>\n",
       "      <td>0.000538</td>\n",
       "    </tr>\n",
       "    <tr>\n",
       "      <th>6</th>\n",
       "      <td>6</td>\n",
       "      <td>0.628579</td>\n",
       "      <td>0.000856</td>\n",
       "      <td>0.628449</td>\n",
       "      <td>0.000522</td>\n",
       "    </tr>\n",
       "    <tr>\n",
       "      <th>7</th>\n",
       "      <td>7</td>\n",
       "      <td>0.620249</td>\n",
       "      <td>0.000853</td>\n",
       "      <td>0.620153</td>\n",
       "      <td>0.000601</td>\n",
       "    </tr>\n",
       "    <tr>\n",
       "      <th>8</th>\n",
       "      <td>8</td>\n",
       "      <td>0.612295</td>\n",
       "      <td>0.000838</td>\n",
       "      <td>0.612203</td>\n",
       "      <td>0.000819</td>\n",
       "    </tr>\n",
       "    <tr>\n",
       "      <th>9</th>\n",
       "      <td>9</td>\n",
       "      <td>0.604720</td>\n",
       "      <td>0.000897</td>\n",
       "      <td>0.604688</td>\n",
       "      <td>0.000595</td>\n",
       "    </tr>\n",
       "  </tbody>\n",
       "</table>\n",
       "</div>"
      ],
      "text/plain": [
       "   iterations  test-Logloss-mean  test-Logloss-std  train-Logloss-mean  \\\n",
       "0           0           0.683487          0.000083            0.683467   \n",
       "1           1           0.673264          0.000259            0.673213   \n",
       "2           2           0.663463          0.000390            0.663408   \n",
       "3           3           0.654918          0.000491            0.654825   \n",
       "4           4           0.645751          0.000758            0.645639   \n",
       "5           5           0.637144          0.000669            0.637030   \n",
       "6           6           0.628579          0.000856            0.628449   \n",
       "7           7           0.620249          0.000853            0.620153   \n",
       "8           8           0.612295          0.000838            0.612203   \n",
       "9           9           0.604720          0.000897            0.604688   \n",
       "\n",
       "   train-Logloss-std  \n",
       "0           0.000074  \n",
       "1           0.000203  \n",
       "2           0.000317  \n",
       "3           0.000571  \n",
       "4           0.000726  \n",
       "5           0.000538  \n",
       "6           0.000522  \n",
       "7           0.000601  \n",
       "8           0.000819  \n",
       "9           0.000595  "
      ]
     },
     "execution_count": 50,
     "metadata": {},
     "output_type": "execute_result"
    }
   ],
   "source": [
    "cv_data.head(10)"
   ]
  },
  {
   "cell_type": "markdown",
   "id": "239c53da",
   "metadata": {},
   "source": [
    "по полученной таблице можем вычислить например минимум среднего логлосса на тесте, чтобы опредлеить итерацию на которой у нас происходит переобучение, чтобы потом обрезать модель по этой итерации "
   ]
  },
  {
   "cell_type": "code",
   "execution_count": 54,
   "id": "28819b8b",
   "metadata": {},
   "outputs": [
    {
     "name": "stdout",
     "output_type": "stream",
     "text": [
      "Лучшее значение logloss на валидации: 0.3034714981000148 на шаге 499\n"
     ]
    }
   ],
   "source": [
    "best_val = cv_data['test-Logloss-mean'].min()\n",
    "best_iter = cv_data['test-Logloss-mean'].values.argmin()\n",
    "\n",
    "print(f'Лучшее значение logloss на валидации: {best_val} на шаге {best_iter}')"
   ]
  },
  {
   "cell_type": "markdown",
   "id": "3919b62f",
   "metadata": {},
   "source": [
    "### Поиск по сетке"
   ]
  },
  {
   "cell_type": "code",
   "execution_count": 55,
   "id": "8e7a952c",
   "metadata": {},
   "outputs": [
    {
     "data": {
      "text/plain": [
       "{'iterations': 100,\n",
       " 'learning_rate': 0.1,\n",
       " 'depth': 6,\n",
       " 'verbose': False,\n",
       " 'cat_features': [1, 3, 5, 6, 7, 8, 9, 13]}"
      ]
     },
     "execution_count": 55,
     "metadata": {},
     "output_type": "execute_result"
    }
   ],
   "source": [
    "from sklearn.model_selection import GridSearchCV\n",
    "\n",
    "param_gcv = {'learning_rate' : [0.1, 0.01, 0.001]}\n",
    "\n",
    "clf = CatBoostClassifier(iterations = 100,\n",
    "                         depth = 6,\n",
    "                         cat_features = [1, 3, 5, 6, 7, 8, 9, 13],\n",
    "                         verbose = False)\n",
    "\n",
    "gcv = GridSearchCV(clf, param_grid = param_gcv, cv = 5)\n",
    "\n",
    "results = gcv.fit(X_train, y_train)\n",
    "results.best_estimator_.get_params()"
   ]
  },
  {
   "cell_type": "markdown",
   "id": "6fe04355",
   "metadata": {},
   "source": [
    "### Предсказания"
   ]
  },
  {
   "cell_type": "code",
   "execution_count": 58,
   "id": "d06a71f7",
   "metadata": {},
   "outputs": [
    {
     "data": {
      "application/vnd.jupyter.widget-view+json": {
       "model_id": "0b9fd6482e9d42d2b6ed025c54103fb0",
       "version_major": 2,
       "version_minor": 0
      },
      "text/plain": [
       "MetricVisualizer(layout=Layout(align_self='stretch', height='500px'))"
      ]
     },
     "metadata": {},
     "output_type": "display_data"
    },
    {
     "data": {
      "text/plain": [
       "<catboost.core.CatBoostClassifier at 0x1cb918b2e50>"
      ]
     },
     "execution_count": 58,
     "metadata": {},
     "output_type": "execute_result"
    }
   ],
   "source": [
    "model = CatBoostClassifier(iterations=100, \n",
    "                           learning_rate = 0.1, \n",
    "                           depth = 6,\n",
    "                           custom_loss = ['AUC', 'Accuracy'])\n",
    "\n",
    "model.fit(train_pool,\n",
    "          eval_set = valid_pool,\n",
    "          verbose = False, \n",
    "          plot = True)"
   ]
  },
  {
   "cell_type": "markdown",
   "id": "d7282704",
   "metadata": {},
   "source": [
    "`predict_proba` возвращает матрицу с вероятностяими (вероятность одного класса и второго)"
   ]
  },
  {
   "cell_type": "code",
   "execution_count": 59,
   "id": "8ce7f528",
   "metadata": {},
   "outputs": [
    {
     "name": "stdout",
     "output_type": "stream",
     "text": [
      "[[0.99459309 0.00540691]\n",
      " [0.75412224 0.24587776]\n",
      " [0.65040476 0.34959524]\n",
      " ...\n",
      " [0.21217755 0.78782245]\n",
      " [0.8616531  0.1383469 ]\n",
      " [0.24746414 0.75253586]]\n"
     ]
    }
   ],
   "source": [
    "print(model.predict_proba(X_test))"
   ]
  },
  {
   "cell_type": "markdown",
   "id": "3f3abb78",
   "metadata": {},
   "source": [
    "обычный `predict` как обычно возвращает значение 1 или 0 по порогу в 0.5"
   ]
  },
  {
   "cell_type": "code",
   "execution_count": 61,
   "id": "50439dee",
   "metadata": {},
   "outputs": [
    {
     "name": "stdout",
     "output_type": "stream",
     "text": [
      "[0 0 0 ... 1 0 1]\n"
     ]
    }
   ],
   "source": [
    "y_test_pred = model.predict(X_test)\n",
    "print(y_test_pred)"
   ]
  },
  {
   "cell_type": "code",
   "execution_count": 63,
   "id": "7c27565f",
   "metadata": {},
   "outputs": [
    {
     "name": "stdout",
     "output_type": "stream",
     "text": [
      "              precision    recall  f1-score   support\n",
      "\n",
      "           0       0.88      0.94      0.91     11360\n",
      "           1       0.78      0.62      0.69      3700\n",
      "\n",
      "    accuracy                           0.86     15060\n",
      "   macro avg       0.83      0.78      0.80     15060\n",
      "weighted avg       0.86      0.86      0.86     15060\n",
      "\n"
     ]
    }
   ],
   "source": [
    "from sklearn.metrics import classification_report\n",
    "\n",
    "print(classification_report(y_test, y_test_pred))"
   ]
  },
  {
   "cell_type": "markdown",
   "id": "c6b64b60",
   "metadata": {},
   "source": [
    "`get_roc_curve` для получения ROC-кривой (Receiver Operating Characteristic curve) для модели. ROC-кривая показывает зависимость между долей ложных срабатываний (False Positive Rate, FPR) и долей истинных срабатываний (True Positive Rate, TPR) при различных порогах классификации\n",
    "curve: Возвращает кортеж, содержащий три элемента:\n",
    "- fpr: False Positive Rate (доля ложных срабатываний).\n",
    "- tpr: True Positive Rate (доля истинных срабатываний).\n",
    "- thresholds: Пороги классификации.\n",
    "\n",
    "`get_fnr_curve` используется для получения кривой ложных негативных срабатываний (False Negative Rate, FNR) на основе ROC-кривой. FNR показывает долю ложных негативных срабатываний при различных порогах классификации.\n",
    "\n",
    "`get_fpr_curve` используется для получения кривой ложных положительных срабатываний (False Positive Rate, FPR) на основе ROC-кривой. FPR показывает долю ложных положительных срабатываний при различных порогах классификации."
   ]
  },
  {
   "cell_type": "code",
   "execution_count": 66,
   "id": "430e5a73",
   "metadata": {},
   "outputs": [],
   "source": [
    "from catboost.utils import get_roc_curve\n",
    "from catboost.utils import get_fnr_curve\n",
    "from catboost.utils import get_fpr_curve\n",
    "\n",
    "curve = get_roc_curve(model, test_pool)\n",
    "(fpr, tpr, thresholds) = curve\n",
    "\n",
    "(thresholds, fnr) = get_fnr_curve(curve = curve)\n",
    "(thresholds, fpr) = get_fpr_curve(curve = curve)"
   ]
  },
  {
   "cell_type": "code",
   "execution_count": 71,
   "id": "7b713a4f",
   "metadata": {},
   "outputs": [
    {
     "data": {
      "text/plain": [
       "<matplotlib.legend.Legend at 0x1cb94b46250>"
      ]
     },
     "execution_count": 71,
     "metadata": {},
     "output_type": "execute_result"
    },
    {
     "data": {
      "image/png": "[encoded data removed]",
      "text/plain": [
       "<Figure size 1600x900 with 1 Axes>"
      ]
     },
     "metadata": {},
     "output_type": "display_data"
    }
   ],
   "source": [
    "plt.figure(figsize = (16, 9))\n",
    "style = {'alpha' : 0.5,\n",
    "         'lw' : 2}\n",
    "plt.plot(thresholds, fpr, color = 'blue', label = 'FPR', **style)\n",
    "plt.plot(thresholds, fnr, color = 'red', label = 'FNR', **style)\n",
    "\n",
    "plt.xlim([0.0, 1.0])\n",
    "plt.ylim([0.0, 1.05])\n",
    "plt.xticks(fontsize = 16)\n",
    "plt.yticks(fontsize = 16)\n",
    "plt.grid(True)\n",
    "\n",
    "plt.xlabel('Threshold')\n",
    "plt.ylabel('Error rate')\n",
    "plt.title('FPR-FNR curves')\n",
    "plt.legend(loc = 'lower left') "
   ]
  },
  {
   "cell_type": "markdown",
   "id": "4eb73ef4",
   "metadata": {},
   "source": [
    "сделаем допущение, что мы ошибаемся на 1 процент, тогда `select_threshold` вернет порог при котором будет получена такая метрика "
   ]
  },
  {
   "cell_type": "code",
   "execution_count": 84,
   "id": "74eb3b3d",
   "metadata": {},
   "outputs": [
    {
     "name": "stdout",
     "output_type": "stream",
     "text": [
      "0.035831357925887354\n",
      "0.7279598689045056\n"
     ]
    }
   ],
   "source": [
    "from catboost.utils import select_threshold\n",
    "\n",
    "print(select_threshold(model, test_pool, FNR=0.01))\n",
    "print(select_threshold(model, test_pool, FPR=0.01))"
   ]
  },
  {
   "cell_type": "markdown",
   "id": "c3215bcd",
   "metadata": {},
   "source": [
    "### Важность признаков"
   ]
  },
  {
   "cell_type": "markdown",
   "id": "c6b65396",
   "metadata": {},
   "source": [
    "`get_feature_importance` информация о признаках, которые сыграли большую роль. Эти значения получается из следущего: на сколько изменились предсказания если поменяется значение признака.  "
   ]
  },
  {
   "cell_type": "code",
   "execution_count": 87,
   "id": "b159ac5d",
   "metadata": {},
   "outputs": [
    {
     "data": {
      "text/html": [
       "<div>\n",
       "<style scoped>\n",
       "    .dataframe tbody tr th:only-of-type {\n",
       "        vertical-align: middle;\n",
       "    }\n",
       "\n",
       "    .dataframe tbody tr th {\n",
       "        vertical-align: top;\n",
       "    }\n",
       "\n",
       "    .dataframe thead th {\n",
       "        text-align: right;\n",
       "    }\n",
       "</style>\n",
       "<table border=\"1\" class=\"dataframe\">\n",
       "  <thead>\n",
       "    <tr style=\"text-align: right;\">\n",
       "      <th></th>\n",
       "      <th>Feature Id</th>\n",
       "      <th>Importances</th>\n",
       "    </tr>\n",
       "  </thead>\n",
       "  <tbody>\n",
       "    <tr>\n",
       "      <th>0</th>\n",
       "      <td>relationship</td>\n",
       "      <td>27.094927</td>\n",
       "    </tr>\n",
       "    <tr>\n",
       "      <th>1</th>\n",
       "      <td>capital-gain</td>\n",
       "      <td>15.817438</td>\n",
       "    </tr>\n",
       "    <tr>\n",
       "      <th>2</th>\n",
       "      <td>age</td>\n",
       "      <td>11.334736</td>\n",
       "    </tr>\n",
       "    <tr>\n",
       "      <th>3</th>\n",
       "      <td>education-num</td>\n",
       "      <td>11.046378</td>\n",
       "    </tr>\n",
       "    <tr>\n",
       "      <th>4</th>\n",
       "      <td>occupation</td>\n",
       "      <td>8.764922</td>\n",
       "    </tr>\n",
       "    <tr>\n",
       "      <th>5</th>\n",
       "      <td>capital-loss</td>\n",
       "      <td>6.199801</td>\n",
       "    </tr>\n",
       "    <tr>\n",
       "      <th>6</th>\n",
       "      <td>marital-status</td>\n",
       "      <td>6.197312</td>\n",
       "    </tr>\n",
       "    <tr>\n",
       "      <th>7</th>\n",
       "      <td>hours-per-week</td>\n",
       "      <td>5.900784</td>\n",
       "    </tr>\n",
       "    <tr>\n",
       "      <th>8</th>\n",
       "      <td>workclass</td>\n",
       "      <td>2.457372</td>\n",
       "    </tr>\n",
       "    <tr>\n",
       "      <th>9</th>\n",
       "      <td>education</td>\n",
       "      <td>1.667648</td>\n",
       "    </tr>\n",
       "    <tr>\n",
       "      <th>10</th>\n",
       "      <td>sex</td>\n",
       "      <td>1.620972</td>\n",
       "    </tr>\n",
       "    <tr>\n",
       "      <th>11</th>\n",
       "      <td>fnlwgt</td>\n",
       "      <td>0.918309</td>\n",
       "    </tr>\n",
       "    <tr>\n",
       "      <th>12</th>\n",
       "      <td>native-country</td>\n",
       "      <td>0.615325</td>\n",
       "    </tr>\n",
       "    <tr>\n",
       "      <th>13</th>\n",
       "      <td>race</td>\n",
       "      <td>0.364077</td>\n",
       "    </tr>\n",
       "  </tbody>\n",
       "</table>\n",
       "</div>"
      ],
      "text/plain": [
       "        Feature Id  Importances\n",
       "0     relationship    27.094927\n",
       "1     capital-gain    15.817438\n",
       "2              age    11.334736\n",
       "3    education-num    11.046378\n",
       "4       occupation     8.764922\n",
       "5     capital-loss     6.199801\n",
       "6   marital-status     6.197312\n",
       "7   hours-per-week     5.900784\n",
       "8        workclass     2.457372\n",
       "9        education     1.667648\n",
       "10             sex     1.620972\n",
       "11          fnlwgt     0.918309\n",
       "12  native-country     0.615325\n",
       "13            race     0.364077"
      ]
     },
     "execution_count": 87,
     "metadata": {},
     "output_type": "execute_result"
    }
   ],
   "source": [
    "model.get_feature_importance(prettified = True)"
   ]
  },
  {
   "cell_type": "markdown",
   "id": "9bb909e5",
   "metadata": {},
   "source": [
    "есть еще один способ. В этом случае метод `get_feature_importance` с параметрами `test_pool` и `LossFunctionChange` смотрит не на изменения предсказаний, а на изменение функции, которую мы оптимизурем. Если появятся отрицательные значения - то значит, что от изменения признака с отрицательным значением функция ухудшается, поэтому возможно их стоит удалить из набора данных.\n"
   ]
  },
  {
   "cell_type": "code",
   "execution_count": 88,
   "id": "1e378a07",
   "metadata": {},
   "outputs": [
    {
     "data": {
      "text/html": [
       "<div>\n",
       "<style scoped>\n",
       "    .dataframe tbody tr th:only-of-type {\n",
       "        vertical-align: middle;\n",
       "    }\n",
       "\n",
       "    .dataframe tbody tr th {\n",
       "        vertical-align: top;\n",
       "    }\n",
       "\n",
       "    .dataframe thead th {\n",
       "        text-align: right;\n",
       "    }\n",
       "</style>\n",
       "<table border=\"1\" class=\"dataframe\">\n",
       "  <thead>\n",
       "    <tr style=\"text-align: right;\">\n",
       "      <th></th>\n",
       "      <th>Feature Id</th>\n",
       "      <th>Importances</th>\n",
       "    </tr>\n",
       "  </thead>\n",
       "  <tbody>\n",
       "    <tr>\n",
       "      <th>0</th>\n",
       "      <td>relationship</td>\n",
       "      <td>0.051834</td>\n",
       "    </tr>\n",
       "    <tr>\n",
       "      <th>1</th>\n",
       "      <td>capital-gain</td>\n",
       "      <td>0.043384</td>\n",
       "    </tr>\n",
       "    <tr>\n",
       "      <th>2</th>\n",
       "      <td>age</td>\n",
       "      <td>0.015426</td>\n",
       "    </tr>\n",
       "    <tr>\n",
       "      <th>3</th>\n",
       "      <td>education-num</td>\n",
       "      <td>0.014051</td>\n",
       "    </tr>\n",
       "    <tr>\n",
       "      <th>4</th>\n",
       "      <td>occupation</td>\n",
       "      <td>0.011764</td>\n",
       "    </tr>\n",
       "    <tr>\n",
       "      <th>5</th>\n",
       "      <td>capital-loss</td>\n",
       "      <td>0.011625</td>\n",
       "    </tr>\n",
       "    <tr>\n",
       "      <th>6</th>\n",
       "      <td>hours-per-week</td>\n",
       "      <td>0.008185</td>\n",
       "    </tr>\n",
       "    <tr>\n",
       "      <th>7</th>\n",
       "      <td>marital-status</td>\n",
       "      <td>0.007777</td>\n",
       "    </tr>\n",
       "    <tr>\n",
       "      <th>8</th>\n",
       "      <td>workclass</td>\n",
       "      <td>0.001390</td>\n",
       "    </tr>\n",
       "    <tr>\n",
       "      <th>9</th>\n",
       "      <td>education</td>\n",
       "      <td>0.001034</td>\n",
       "    </tr>\n",
       "    <tr>\n",
       "      <th>10</th>\n",
       "      <td>sex</td>\n",
       "      <td>0.000577</td>\n",
       "    </tr>\n",
       "    <tr>\n",
       "      <th>11</th>\n",
       "      <td>native-country</td>\n",
       "      <td>0.000404</td>\n",
       "    </tr>\n",
       "    <tr>\n",
       "      <th>12</th>\n",
       "      <td>fnlwgt</td>\n",
       "      <td>0.000322</td>\n",
       "    </tr>\n",
       "    <tr>\n",
       "      <th>13</th>\n",
       "      <td>race</td>\n",
       "      <td>0.000130</td>\n",
       "    </tr>\n",
       "  </tbody>\n",
       "</table>\n",
       "</div>"
      ],
      "text/plain": [
       "        Feature Id  Importances\n",
       "0     relationship     0.051834\n",
       "1     capital-gain     0.043384\n",
       "2              age     0.015426\n",
       "3    education-num     0.014051\n",
       "4       occupation     0.011764\n",
       "5     capital-loss     0.011625\n",
       "6   hours-per-week     0.008185\n",
       "7   marital-status     0.007777\n",
       "8        workclass     0.001390\n",
       "9        education     0.001034\n",
       "10             sex     0.000577\n",
       "11  native-country     0.000404\n",
       "12          fnlwgt     0.000322\n",
       "13            race     0.000130"
      ]
     },
     "execution_count": 88,
     "metadata": {},
     "output_type": "execute_result"
    }
   ],
   "source": [
    "model.get_feature_importance(test_pool,\n",
    "                             'LossFunctionChange',\n",
    "                             prettified = True)"
   ]
  }
 ],
 "metadata": {
  "kernelspec": {
   "display_name": "Python 3 (ipykernel)",
   "language": "python",
   "name": "python3"
  },
  "language_info": {
   "codemirror_mode": {
    "name": "ipython",
    "version": 3
   },
   "file_extension": ".py",
   "mimetype": "text/x-python",
   "name": "python",
   "nbconvert_exporter": "python",
   "pygments_lexer": "ipython3",
   "version": "3.11.5"
  }
 },
 "nbformat": 4,
 "nbformat_minor": 5
}
